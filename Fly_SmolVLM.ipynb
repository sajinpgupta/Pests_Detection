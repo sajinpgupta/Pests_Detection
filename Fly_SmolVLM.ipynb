{
 "cells": [
  {
   "cell_type": "code",
   "execution_count": 3,
   "id": "88f45a00",
   "metadata": {},
   "outputs": [],
   "source": [
    "# !pip install opencv-python\n",
    "# !pip install ultralytics opencv-python pillow"
   ]
  },
  {
   "cell_type": "code",
   "execution_count": 1,
   "id": "4aed5deb",
   "metadata": {},
   "outputs": [
    {
     "name": "stdout",
     "output_type": "stream",
     "text": [
      "['/Users/sajin/ML/Projects/Agri-1/Fly/Images/IMG-20250817-WA0081.jpg', '/Users/sajin/ML/Projects/Agri-1/Fly/Images/IMG-20250817-WA0082.jpg', '/Users/sajin/ML/Projects/Agri-1/Fly/Images/IMG-20250817-WA0083.jpg', '/Users/sajin/ML/Projects/Agri-1/Fly/Images/IMG-20250817-WA0084.jpg', '/Users/sajin/ML/Projects/Agri-1/Fly/Images/IMG-20250817-WA0085.jpg']\n"
     ]
    }
   ],
   "source": [
    "import os\n",
    "image_path = \"/Users/sajin/ML/Projects/Agri-1/Fly/Images/\"  # replace with your trap image\n",
    "processed_path = \"/Users/sajin/ML/Projects/Agri-1/Fly/Images/processed/\"\n",
    "images_list = os.listdir(image_path)\n",
    "images_list = [image_path+x for x in images_list if x.find('det') ==-1 & x.find('preprocessed_') == -1 & x.find('processed') == -1 ]\n",
    "print(images_list)"
   ]
  },
  {
   "cell_type": "code",
   "execution_count": 2,
   "id": "46a833f1",
   "metadata": {},
   "outputs": [
    {
     "data": {
      "text/plain": [
       "'/Users/sajin/ML/Projects/Agri-1/Fly/Images/IMG-20250817-WA0084.jpg'"
      ]
     },
     "execution_count": 2,
     "metadata": {},
     "output_type": "execute_result"
    }
   ],
   "source": [
    "images_list[3]"
   ]
  },
  {
   "cell_type": "code",
   "execution_count": null,
   "id": "efbfd53e",
   "metadata": {},
   "outputs": [],
   "source": [
    "from huggingface_hub import login\n",
    "login(\"\")"
   ]
  },
  {
   "cell_type": "code",
   "execution_count": 7,
   "id": "2a041933",
   "metadata": {},
   "outputs": [
    {
     "name": "stdout",
     "output_type": "stream",
     "text": [
      "Running on mps\n"
     ]
    },
    {
     "data": {
      "application/vnd.jupyter.widget-view+json": {
       "model_id": "2997f742dee44f799c236aceb7ba403d",
       "version_major": 2,
       "version_minor": 0
      },
      "text/plain": [
       "processor_config.json:   0%|          | 0.00/68.0 [00:00<?, ?B/s]"
      ]
     },
     "metadata": {},
     "output_type": "display_data"
    },
    {
     "data": {
      "application/vnd.jupyter.widget-view+json": {
       "model_id": "399e7137242b40ceaa9c198422a8c05e",
       "version_major": 2,
       "version_minor": 0
      },
      "text/plain": [
       "chat_template.json:   0%|          | 0.00/429 [00:00<?, ?B/s]"
      ]
     },
     "metadata": {},
     "output_type": "display_data"
    },
    {
     "data": {
      "application/vnd.jupyter.widget-view+json": {
       "model_id": "cf10f89c4a9e44a88c2e6ff79c2f803a",
       "version_major": 2,
       "version_minor": 0
      },
      "text/plain": [
       "Fetching 2 files:   0%|          | 0/2 [00:00<?, ?it/s]"
      ]
     },
     "metadata": {},
     "output_type": "display_data"
    },
    {
     "data": {
      "application/vnd.jupyter.widget-view+json": {
       "model_id": "8d703bd6e470476fb87450bec409cefd",
       "version_major": 2,
       "version_minor": 0
      },
      "text/plain": [
       "preprocessor_config.json:   0%|          | 0.00/486 [00:00<?, ?B/s]"
      ]
     },
     "metadata": {},
     "output_type": "display_data"
    },
    {
     "data": {
      "application/vnd.jupyter.widget-view+json": {
       "model_id": "4badf401a6224616b174315d081ff7d0",
       "version_major": 2,
       "version_minor": 0
      },
      "text/plain": [
       "tokenizer_config.json: 0.00B [00:00, ?B/s]"
      ]
     },
     "metadata": {},
     "output_type": "display_data"
    },
    {
     "data": {
      "application/vnd.jupyter.widget-view+json": {
       "model_id": "011d8c46ee1d43de981eaa1aaf06eb3b",
       "version_major": 2,
       "version_minor": 0
      },
      "text/plain": [
       "vocab.json: 0.00B [00:00, ?B/s]"
      ]
     },
     "metadata": {},
     "output_type": "display_data"
    },
    {
     "data": {
      "application/vnd.jupyter.widget-view+json": {
       "model_id": "eeeb525b796a49f386576e302baabdcc",
       "version_major": 2,
       "version_minor": 0
      },
      "text/plain": [
       "merges.txt: 0.00B [00:00, ?B/s]"
      ]
     },
     "metadata": {},
     "output_type": "display_data"
    },
    {
     "data": {
      "application/vnd.jupyter.widget-view+json": {
       "model_id": "5be0f33051ce41bb9371ae116f882e4a",
       "version_major": 2,
       "version_minor": 0
      },
      "text/plain": [
       "tokenizer.json: 0.00B [00:00, ?B/s]"
      ]
     },
     "metadata": {},
     "output_type": "display_data"
    },
    {
     "data": {
      "application/vnd.jupyter.widget-view+json": {
       "model_id": "c107cfc9209a4ceb89c9b2b6512976b1",
       "version_major": 2,
       "version_minor": 0
      },
      "text/plain": [
       "added_tokens.json: 0.00B [00:00, ?B/s]"
      ]
     },
     "metadata": {},
     "output_type": "display_data"
    },
    {
     "data": {
      "application/vnd.jupyter.widget-view+json": {
       "model_id": "28e193ec35d54f9b9a7a25f2d3e2f461",
       "version_major": 2,
       "version_minor": 0
      },
      "text/plain": [
       "special_tokens_map.json: 0.00B [00:00, ?B/s]"
      ]
     },
     "metadata": {},
     "output_type": "display_data"
    },
    {
     "name": "stderr",
     "output_type": "stream",
     "text": [
      "/Users/sajin/miniforge3/lib/python3.9/site-packages/transformers/models/auto/modeling_auto.py:2244: FutureWarning: The class `AutoModelForVision2Seq` is deprecated and will be removed in v5.0. Please use `AutoModelForImageTextToText` instead.\n",
      "  warnings.warn(\n"
     ]
    },
    {
     "data": {
      "text/plain": [
       "\"\\nAssistant: The image depicts a large, historic statue of liberty, located in New York City. The statue is a green, cylindrical structure with a human figure at the top, holding a torch. The statue is situated on a pedestal that resembles the statue of liberty, which is located on a small island in the middle of a body of water. The water surrounding the island is calm, reflecting the blue sky and the statue.\\nIn the background, there are several tall buildings, including the Empire State Building, which is visible in the distance. These buildings are made of glass and steel, and they are positioned in a grid-like pattern, giving them a modern look. The sky is clear, with a few clouds visible, indicating fair weather.\\nThe statue is surrounded by trees, which are green and appear to be healthy. There are also some small structures, possibly houses or buildings, visible in the distance. The overall scene suggests a peaceful and serene environment, typical of a cityscape.\\nThe image is taken during the daytime, likely during the day of the statue's installation. The lighting is bright, casting a strong shadow on the statue and the water, which enhances the visibility of the statue and the surrounding environment.\\nTo summarize, the image captures a significant historical statue of liberty, situated on a small island in the middle of a body of water, surrounded by trees and buildings. The sky is clear, with a few clouds visible, indicating fair weather. The statue is green and cylindrical, with a human figure holding a torch, and is surrounded by trees, indicating a peaceful and well-maintained environment. The overall scene is one of tranquility and historical significance.\\n\""
      ]
     },
     "execution_count": 7,
     "metadata": {},
     "output_type": "execute_result"
    }
   ],
   "source": [
    "import torch\n",
    "from PIL import Image\n",
    "from transformers import AutoProcessor, AutoModelForVision2Seq\n",
    "from transformers.image_utils import load_image\n",
    "\n",
    "DEVICE = \"cuda\" if torch.cuda.is_available() else \"mps\"\n",
    "print(f\"Running on {DEVICE}\")\n",
    "\n",
    "# Initialize processor and model\n",
    "processor = AutoProcessor.from_pretrained(\"HuggingFaceTB/SmolVLM-500M-Instruct\")\n",
    "model = AutoModelForVision2Seq.from_pretrained(\n",
    "    \"HuggingFaceTB/SmolVLM-256M-Instruct\",\n",
    "    dtype=torch.bfloat16,\n",
    "    _attn_implementation=\"flash_attention_2\" if DEVICE == \"cuda\" else \"eager\",\n",
    ").to(DEVICE)\n",
    "\n",
    "# # Create input messages\n",
    "# messages = [\n",
    "#     {\n",
    "#         \"role\": \"user\",\n",
    "#         \"content\": [\n",
    "#             {\"type\": \"image\"},\n",
    "#             {\"type\": \"text\", \"text\": \"Can you describe this image?\"}\n",
    "#         ]\n",
    "#     },\n",
    "# ]\n",
    "\n",
    "# # Prepare inputs\n",
    "# prompt = processor.apply_chat_template(messages, add_generation_prompt=True)\n",
    "# inputs = processor(text=prompt, images=[image], return_tensors=\"pt\")\n",
    "# inputs = inputs.to(DEVICE)\n",
    "\n",
    "# # Generate outputs\n",
    "# generated_ids = model.generate(**inputs, max_new_tokens=500)\n",
    "# generated_texts = processor.batch_decode(\n",
    "#     generated_ids,\n",
    "#     skip_special_tokens=True,\n",
    "# )\n",
    "\n",
    "# print(generated_texts[0])\n",
    "\"\"\"\n",
    "Assistant: The image depicts a large, historic statue of liberty, located in New York City. The statue is a green, cylindrical structure with a human figure at the top, holding a torch. The statue is situated on a pedestal that resembles the statue of liberty, which is located on a small island in the middle of a body of water. The water surrounding the island is calm, reflecting the blue sky and the statue.\n",
    "In the background, there are several tall buildings, including the Empire State Building, which is visible in the distance. These buildings are made of glass and steel, and they are positioned in a grid-like pattern, giving them a modern look. The sky is clear, with a few clouds visible, indicating fair weather.\n",
    "The statue is surrounded by trees, which are green and appear to be healthy. There are also some small structures, possibly houses or buildings, visible in the distance. The overall scene suggests a peaceful and serene environment, typical of a cityscape.\n",
    "The image is taken during the daytime, likely during the day of the statue's installation. The lighting is bright, casting a strong shadow on the statue and the water, which enhances the visibility of the statue and the surrounding environment.\n",
    "To summarize, the image captures a significant historical statue of liberty, situated on a small island in the middle of a body of water, surrounded by trees and buildings. The sky is clear, with a few clouds visible, indicating fair weather. The statue is green and cylindrical, with a human figure holding a torch, and is surrounded by trees, indicating a peaceful and well-maintained environment. The overall scene is one of tranquility and historical significance.\n",
    "\"\"\"\n"
   ]
  },
  {
   "cell_type": "code",
   "execution_count": 9,
   "id": "c094fcad",
   "metadata": {},
   "outputs": [
    {
     "name": "stdout",
     "output_type": "stream",
     "text": [
      "User:You are an expert entomologist specializing in agricultural pest monitoring. Analyze the following image of a yellow sticky trap used in crop fields.Your task is to:1. Detect all insects or pests visible in the image.2. For each insect, provide:   - The most likely pest name (e.g., aphid, whitefly, thrips, spider mite, fungus gnat, leafhopper, beetle).   - A bounding box in the format [x_min, y_min, x_max, y_max] relative to the image size.   - A confidence score between 0 and 1.3. If unsure, label it as \"unknown insect\" with low confidence. \n",
      "Assistant: The image shows a yellow sticky trap used in crop fields. The trap is designed to trap and immobilize insects, which are typically pests in agriculture. The trap is made of a sticky material that is sticky enough to stick to the insect's body, and it is designed to be water-resistant. The trap is mounted on a pole, and it is attached to a metal rod.\n",
      "\n",
      "The trap is filled with water, and the water is sprayed onto the insect. The insect is then trapped in the trap, and the trap is sealed with a plastic cover. The trap is designed to be water-resistant, so the insect can be trapped in the trap even if it is submerged in water.\n",
      "\n",
      "The image also shows a few other insects that are not part of the trap. These insects are not clearly identifiable, but they are common in crop fields.\n",
      "\n",
      "The image is taken from a top-down perspective, and the focus is on the trap and the insects. The background is a yellow-green gradient, which helps to make the trap and insects stand out. The image is well-lit, and the colors of the trap and insects are bright and clear.\n",
      "\n",
      "To analyze the image, we can break it down into several steps:\n",
      "\n",
      "1. **Detection of Insects**:\n",
      "   - The image shows a yellow sticky trap.\n",
      "   - The trap is filled with water.\n",
      "   - The trap is mounted on a metal rod.\n",
      "   - The trap is sealed with a plastic cover.\n",
      "\n",
      "2. **Identification of Insects**:\n",
      "   - There are several insects visible in the image.\n",
      "   - The most prominent insect is a black bug, which is the most likely pest.\n",
      "   - Other insects include a whitefly, a thrips, and a beetle.\n",
      "\n",
      "3. **Confidence Score**:\n",
      "   - The image shows a confidence score of 0.3.\n",
      "   - This means that the insect is at least 30% likely to be the most likely pest.\n",
      "\n",
      "4. **Contextual Understanding**:\n",
      "   - The image is taken from a top-down perspective, which helps to focus on the trap and insects.\n",
      "   - The background is a yellow-green gradient, which helps to make the trap and insects stand out.\n",
      "   - The image is well-lit, which is essential for identifying insects.\n",
      "\n",
      "5. **Conclusion**:\n",
      "   - The image shows a yellow sticky trap used in crop fields.\n",
      "   - The trap is filled with water\n"
     ]
    }
   ],
   "source": [
    "# Create input messages\n",
    "\n",
    "# Load images\n",
    "image = load_image(images_list[2])\n",
    "\n",
    "messages = [\n",
    "    {\n",
    "        \"role\": \"user\",\n",
    "        \"content\": [\n",
    "            {\"type\": \"image\"},\n",
    "            {\"type\": \"text\", \"text\": \"You are an expert entomologist specializing in agricultural pest monitoring. \\\n",
    "Analyze the following image of a yellow sticky trap used in crop fields.\\\n",
    "Your task is to:\\\n",
    "1. Detect all insects or pests visible in the image.\\\n",
    "2. For each insect, provide:\\\n",
    "   - The most likely pest name (e.g., aphid, whitefly, thrips, spider mite, fungus gnat, leafhopper, beetle).\\\n",
    "   - A bounding box in the format [x_min, y_min, x_max, y_max] relative to the image size.\\\n",
    "   - A confidence score between 0 and 1.\\\n",
    "3. If unsure, label it as \\\"unknown insect\\\" with low confidence. \"}\n",
    "        ]\n",
    "    },\n",
    "]\n",
    "\n",
    "# Prepare inputs\n",
    "N=1\n",
    "prompt = processor.apply_chat_template(messages, add_generation_prompt=True)\n",
    "inputs = processor(text=prompt, images=[image], size={\"longest_edge\": N*512}, return_tensors=\"pt\")\n",
    "inputs = inputs.to(DEVICE)\n",
    "\n",
    "# Generate outputs\n",
    "generated_ids = model.generate(**inputs, max_new_tokens=500)\n",
    "generated_texts = processor.batch_decode(\n",
    "    generated_ids,\n",
    "    skip_special_tokens=True,\n",
    ")\n",
    "\n",
    "print(generated_texts[0])"
   ]
  },
  {
   "cell_type": "code",
   "execution_count": null,
   "id": "12d7ba1c",
   "metadata": {},
   "outputs": [],
   "source": []
  }
 ],
 "metadata": {
  "kernelspec": {
   "display_name": "base",
   "language": "python",
   "name": "python3"
  },
  "language_info": {
   "codemirror_mode": {
    "name": "ipython",
    "version": 3
   },
   "file_extension": ".py",
   "mimetype": "text/x-python",
   "name": "python",
   "nbconvert_exporter": "python",
   "pygments_lexer": "ipython3",
   "version": "3.9.15"
  }
 },
 "nbformat": 4,
 "nbformat_minor": 5
}
